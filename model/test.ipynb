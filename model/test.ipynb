{
 "cells": [
  {
   "cell_type": "code",
   "execution_count": 1,
   "metadata": {},
   "outputs": [],
   "source": [
    "from ExtractCell import *"
   ]
  },
  {
   "cell_type": "code",
   "execution_count": 4,
   "metadata": {},
   "outputs": [],
   "source": [
    "img = Image2Sudoku(r\"5.png\")"
   ]
  },
  {
   "cell_type": "code",
   "execution_count": 5,
   "metadata": {},
   "outputs": [],
   "source": [
    "cells = img.getCells()\n",
    "for key, value in cells.items():\n",
    "    if value is not None:\n",
    "        #newValue = cv2.resize(value, (50,50))\n",
    "        cv2.imwrite( 'T' + key + '.png', value)"
   ]
  },
  {
   "cell_type": "code",
   "execution_count": null,
   "metadata": {},
   "outputs": [],
   "source": [
    "\n"
   ]
  },
  {
   "cell_type": "code",
   "execution_count": null,
   "metadata": {},
   "outputs": [],
   "source": [
    "import pandas as pd"
   ]
  },
  {
   "cell_type": "code",
   "execution_count": null,
   "metadata": {},
   "outputs": [],
   "source": [
    "df = pd.DataFrame(columns = ['value', 'image'])"
   ]
  },
  {
   "cell_type": "code",
   "execution_count": null,
   "metadata": {},
   "outputs": [],
   "source": [
    "df"
   ]
  },
  {
   "cell_type": "code",
   "execution_count": null,
   "metadata": {},
   "outputs": [],
   "source": [
    "import os\n",
    "images = []\n",
    "labels = []\n",
    "for subdir, dirs, files in os.walk('data'):\n",
    "    for subdir, dirs, files in os.walk(subdir):\n",
    "        if files:\n",
    "            label = subdir[-1:]\n",
    "            for file in files:\n",
    "                imagePath = subdir + \"\\\\\" + file\n",
    "                images.append(cv2.imread(imagePath).flatten())\n",
    "                labels.append(label)\n"
   ]
  },
  {
   "cell_type": "code",
   "execution_count": null,
   "metadata": {},
   "outputs": [],
   "source": [
    "images = np.asarray(images)\n",
    "labels = np.asarray(labels)"
   ]
  },
  {
   "cell_type": "code",
   "execution_count": null,
   "metadata": {},
   "outputs": [],
   "source": [
    "from sklearn.neighbors import KNeighborsClassifier\n",
    "from sklearn.svm import SVC\n",
    "from sklearn.neural_network import MLPClassifier\n",
    "\n",
    "KneighboursModel_5 = KNeighborsClassifier(n_neighbors=3)\n",
    "SVCModelLinear = SVC(kernel='rbf', C=5, gamma=5)\n",
    "NeuralModel = MLPClassifier(solver='lbfgs',\n",
    "                            hidden_layer_sizes=(5, 4),\n",
    "                            activation='identity',\n",
    "                            random_state=0\n",
    "                            )"
   ]
  },
  {
   "cell_type": "code",
   "execution_count": null,
   "metadata": {},
   "outputs": [],
   "source": []
  },
  {
   "cell_type": "code",
   "execution_count": null,
   "metadata": {},
   "outputs": [],
   "source": [
    "KneighboursModel_5.fit(images, labels)\n",
    "SVCModelLinear.fit(images, labels)\n",
    "NeuralModel.fit(images, labels)"
   ]
  },
  {
   "cell_type": "code",
   "execution_count": null,
   "metadata": {},
   "outputs": [],
   "source": [
    "k = KneighboursModel_5.score(X_test, y_test)\n",
    "s = SVCModelLinear.score(X_test, y_test)\n",
    "n = NeuralModel.score(X_test, y_test)"
   ]
  },
  {
   "cell_type": "code",
   "execution_count": null,
   "metadata": {},
   "outputs": [],
   "source": []
  },
  {
   "cell_type": "code",
   "execution_count": null,
   "metadata": {},
   "outputs": [],
   "source": [
    "for subdir, dirs, files in os.walk('test'):\n",
    "    for file in files:\n",
    "        imagePath = subdir + \"\\\\\" + file\n",
    "        print(imagePath)\n",
    "        a = cv2.imread(imagePath).flatten()\n",
    "        result = KneighboursModel_5.predict([a])\n",
    "        print(result)"
   ]
  },
  {
   "cell_type": "code",
   "execution_count": null,
   "metadata": {},
   "outputs": [],
   "source": [
    "a = cv2.imread(r'C:\\Users\\e6ncbcy\\Downloads\\Sudoku-Image-Solver\\model\\test\\T78.png')"
   ]
  },
  {
   "cell_type": "code",
   "execution_count": null,
   "metadata": {},
   "outputs": [],
   "source": [
    "for i in range(len(a)):\n",
    "    if np.sum(a[i]) != 0:\n",
    "        print(i)"
   ]
  },
  {
   "cell_type": "code",
   "execution_count": null,
   "metadata": {},
   "outputs": [],
   "source": [
    "leftmost = 999\n",
    "rightmost = 0\n",
    "topmost = 999\n",
    "botmost = 0\n",
    "for i in range(a.shape[0]):\n",
    "    for j in range(a.shape[1]):\n",
    "        if np.sum(a[i, j]) != 0:\n",
    "            leftmost = j if j <= leftmost else leftmost\n",
    "            rightmost = j if j >= rightmost else rightmost\n",
    "            topmost = i if i < topmost else topmost\n",
    "            botmost = i if i > botmost else botmost\n",
    "        "
   ]
  },
  {
   "cell_type": "code",
   "execution_count": null,
   "metadata": {},
   "outputs": [],
   "source": [
    "botmost"
   ]
  },
  {
   "cell_type": "raw",
   "metadata": {},
   "source": [
    "rightmost"
   ]
  },
  {
   "cell_type": "code",
   "execution_count": null,
   "metadata": {},
   "outputs": [],
   "source": [
    "rightmost"
   ]
  },
  {
   "cell_type": "code",
   "execution_count": null,
   "metadata": {},
   "outputs": [],
   "source": [
    "pl.imshow(a[topmost: botmost, leftmost: rightmost])"
   ]
  },
  {
   "cell_type": "code",
   "execution_count": null,
   "metadata": {},
   "outputs": [],
   "source": []
  },
  {
   "cell_type": "code",
   "execution_count": null,
   "metadata": {},
   "outputs": [],
   "source": []
  }
 ],
 "metadata": {
  "kernelspec": {
   "display_name": "Python 3",
   "language": "python",
   "name": "python3"
  },
  "language_info": {
   "codemirror_mode": {
    "name": "ipython",
    "version": 3
   },
   "file_extension": ".py",
   "mimetype": "text/x-python",
   "name": "python",
   "nbconvert_exporter": "python",
   "pygments_lexer": "ipython3",
   "version": "3.7.1"
  }
 },
 "nbformat": 4,
 "nbformat_minor": 2
}
